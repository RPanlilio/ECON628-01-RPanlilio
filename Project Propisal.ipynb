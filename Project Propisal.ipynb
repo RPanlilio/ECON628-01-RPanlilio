{
 "cells": [
  {
   "cell_type": "code",
   "execution_count": 1,
   "metadata": {
    "scrolled": true
   },
   "outputs": [
    {
     "name": "stderr",
     "output_type": "stream",
     "text": [
      "/opt/conda/lib/python3.6/site-packages/sklearn/cross_validation.py:41: DeprecationWarning: This module was deprecated in version 0.18 in favor of the model_selection module into which all the refactored classes and functions are moved. Also note that the interface of the new CV iterators are different from that of this module. This module will be removed in 0.20.\n",
      "  \"This module will be removed in 0.20.\", DeprecationWarning)\n",
      "/opt/conda/lib/python3.6/site-packages/sklearn/grid_search.py:42: DeprecationWarning: This module was deprecated in version 0.18 in favor of the model_selection module into which all the refactored classes and functions are moved. This module will be removed in 0.20.\n",
      "  DeprecationWarning)\n"
     ]
    }
   ],
   "source": [
    "# Import Data Modules, Plotting Modules, and Stats/Regressions Packages# Import  \n",
    "import numpy as np\n",
    "import scipy.stats as stats\n",
    "import pandas as pd\n",
    "import matplotlib.pyplot as plt\n",
    "import seaborn as sns\n",
    "sns.set_style('whitegrid')\n",
    "from sklearn import linear_model\n",
    "from sklearn.metrics import mean_squared_error\n",
    "from sklearn import decomposition\n",
    "from sklearn.decomposition import PCA\n",
    "from matplotlib.mlab import PCA\n",
    "from scipy.stats import mode\n",
    "from sklearn.preprocessing import StandardScaler\n",
    "from sklearn.cross_validation import train_test_split\n",
    "from sklearn.linear_model import LinearRegression\n",
    "from sklearn.cross_validation import cross_val_score\n",
    "from sklearn.metrics import r2_score\n",
    "from sklearn.metrics import mean_squared_error\n",
    "from sklearn.linear_model import Ridge, Lasso, ElasticNet, RidgeCV, LassoCV, ElasticNetCV\n",
    "from sklearn.tree import DecisionTreeRegressor\n",
    "from sklearn.ensemble import RandomForestRegressor\n",
    "from sklearn.grid_search import GridSearchCV\n",
    "import pandas as pd\n",
    "import numpy as np\n",
    "import seaborn as sns\n",
    "import matplotlib.pyplot as plt\n",
    "\n",
    "%matplotlib inline\n",
    "%config InlineBackend.figure_format ='retina'"
   ]
  },
  {
   "cell_type": "markdown",
   "metadata": {},
   "source": [
    "# Armed Conflict Location and Event Dataset"
   ]
  },
  {
   "cell_type": "code",
   "execution_count": 2,
   "metadata": {},
   "outputs": [],
   "source": [
    "# Upload the Africa ACLED Data Set\n",
    "acled_africa = pd.read_csv('Africa_1997-2018_upd-Jul16.csv')\n",
    "\n",
    "# Upload the Asia ACLED Data Set\n",
    "acled_asia = pd.read_csv('Asia_2010-2018_upd-Jul17.csv')\n",
    "\n",
    "# Upload the Middle East ACLED Data Set\n",
    "acled_middleeast = pd.read_csv('MiddleEast_2016-2018_upd-Jul17.csv')"
   ]
  },
  {
   "cell_type": "code",
   "execution_count": 3,
   "metadata": {},
   "outputs": [],
   "source": [
    "# Drop Columns from Africa Data Set\n",
    "acled_africa.drop('EVENT_ID_CNTY', axis=1, inplace=True)"
   ]
  },
  {
   "cell_type": "code",
   "execution_count": 4,
   "metadata": {},
   "outputs": [
    {
     "ename": "ValueError",
     "evalue": "labels ['EVENT_ID_CNTY'] not contained in axis",
     "output_type": "error",
     "traceback": [
      "\u001b[0;31m---------------------------------------------------------------------------\u001b[0m",
      "\u001b[0;31mValueError\u001b[0m                                Traceback (most recent call last)",
      "\u001b[0;32m<ipython-input-4-e820a7226a30>\u001b[0m in \u001b[0;36m<module>\u001b[0;34m()\u001b[0m\n\u001b[1;32m     18\u001b[0m \u001b[0;34m\u001b[0m\u001b[0m\n\u001b[1;32m     19\u001b[0m \u001b[0;31m# Drop Columns from Africa Data Set\u001b[0m\u001b[0;34m\u001b[0m\u001b[0;34m\u001b[0m\u001b[0m\n\u001b[0;32m---> 20\u001b[0;31m \u001b[0macled_africa\u001b[0m\u001b[0;34m.\u001b[0m\u001b[0mdrop\u001b[0m\u001b[0;34m(\u001b[0m\u001b[0;34m'EVENT_ID_CNTY'\u001b[0m\u001b[0;34m,\u001b[0m \u001b[0maxis\u001b[0m\u001b[0;34m=\u001b[0m\u001b[0;36m1\u001b[0m\u001b[0;34m,\u001b[0m \u001b[0minplace\u001b[0m\u001b[0;34m=\u001b[0m\u001b[0;32mTrue\u001b[0m\u001b[0;34m)\u001b[0m\u001b[0;34m\u001b[0m\u001b[0m\n\u001b[0m\u001b[1;32m     21\u001b[0m \u001b[0macled_africa\u001b[0m\u001b[0;34m.\u001b[0m\u001b[0mdrop\u001b[0m\u001b[0;34m(\u001b[0m\u001b[0;34m'EVENT_ID_NO_CNTY'\u001b[0m\u001b[0;34m,\u001b[0m \u001b[0maxis\u001b[0m\u001b[0;34m=\u001b[0m\u001b[0;36m1\u001b[0m\u001b[0;34m,\u001b[0m \u001b[0minplace\u001b[0m\u001b[0;34m=\u001b[0m\u001b[0;32mTrue\u001b[0m\u001b[0;34m)\u001b[0m\u001b[0;34m\u001b[0m\u001b[0m\n\u001b[1;32m     22\u001b[0m \u001b[0macled_africa\u001b[0m\u001b[0;34m.\u001b[0m\u001b[0mdrop\u001b[0m\u001b[0;34m(\u001b[0m\u001b[0;34m'TIME_PRECISION'\u001b[0m\u001b[0;34m,\u001b[0m \u001b[0maxis\u001b[0m\u001b[0;34m=\u001b[0m\u001b[0;36m1\u001b[0m\u001b[0;34m,\u001b[0m \u001b[0minplace\u001b[0m\u001b[0;34m=\u001b[0m\u001b[0;32mTrue\u001b[0m\u001b[0;34m)\u001b[0m\u001b[0;34m\u001b[0m\u001b[0m\n",
      "\u001b[0;32m/opt/conda/lib/python3.6/site-packages/pandas/core/generic.py\u001b[0m in \u001b[0;36mdrop\u001b[0;34m(self, labels, axis, index, columns, level, inplace, errors)\u001b[0m\n\u001b[1;32m   2528\u001b[0m         \u001b[0;32mfor\u001b[0m \u001b[0maxis\u001b[0m\u001b[0;34m,\u001b[0m \u001b[0mlabels\u001b[0m \u001b[0;32min\u001b[0m \u001b[0maxes\u001b[0m\u001b[0;34m.\u001b[0m\u001b[0mitems\u001b[0m\u001b[0;34m(\u001b[0m\u001b[0;34m)\u001b[0m\u001b[0;34m:\u001b[0m\u001b[0;34m\u001b[0m\u001b[0m\n\u001b[1;32m   2529\u001b[0m             \u001b[0;32mif\u001b[0m \u001b[0mlabels\u001b[0m \u001b[0;32mis\u001b[0m \u001b[0;32mnot\u001b[0m \u001b[0;32mNone\u001b[0m\u001b[0;34m:\u001b[0m\u001b[0;34m\u001b[0m\u001b[0m\n\u001b[0;32m-> 2530\u001b[0;31m                 \u001b[0mobj\u001b[0m \u001b[0;34m=\u001b[0m \u001b[0mobj\u001b[0m\u001b[0;34m.\u001b[0m\u001b[0m_drop_axis\u001b[0m\u001b[0;34m(\u001b[0m\u001b[0mlabels\u001b[0m\u001b[0;34m,\u001b[0m \u001b[0maxis\u001b[0m\u001b[0;34m,\u001b[0m \u001b[0mlevel\u001b[0m\u001b[0;34m=\u001b[0m\u001b[0mlevel\u001b[0m\u001b[0;34m,\u001b[0m \u001b[0merrors\u001b[0m\u001b[0;34m=\u001b[0m\u001b[0merrors\u001b[0m\u001b[0;34m)\u001b[0m\u001b[0;34m\u001b[0m\u001b[0m\n\u001b[0m\u001b[1;32m   2531\u001b[0m \u001b[0;34m\u001b[0m\u001b[0m\n\u001b[1;32m   2532\u001b[0m         \u001b[0;32mif\u001b[0m \u001b[0minplace\u001b[0m\u001b[0;34m:\u001b[0m\u001b[0;34m\u001b[0m\u001b[0m\n",
      "\u001b[0;32m/opt/conda/lib/python3.6/site-packages/pandas/core/generic.py\u001b[0m in \u001b[0;36m_drop_axis\u001b[0;34m(self, labels, axis, level, errors)\u001b[0m\n\u001b[1;32m   2560\u001b[0m                 \u001b[0mnew_axis\u001b[0m \u001b[0;34m=\u001b[0m \u001b[0maxis\u001b[0m\u001b[0;34m.\u001b[0m\u001b[0mdrop\u001b[0m\u001b[0;34m(\u001b[0m\u001b[0mlabels\u001b[0m\u001b[0;34m,\u001b[0m \u001b[0mlevel\u001b[0m\u001b[0;34m=\u001b[0m\u001b[0mlevel\u001b[0m\u001b[0;34m,\u001b[0m \u001b[0merrors\u001b[0m\u001b[0;34m=\u001b[0m\u001b[0merrors\u001b[0m\u001b[0;34m)\u001b[0m\u001b[0;34m\u001b[0m\u001b[0m\n\u001b[1;32m   2561\u001b[0m             \u001b[0;32melse\u001b[0m\u001b[0;34m:\u001b[0m\u001b[0;34m\u001b[0m\u001b[0m\n\u001b[0;32m-> 2562\u001b[0;31m                 \u001b[0mnew_axis\u001b[0m \u001b[0;34m=\u001b[0m \u001b[0maxis\u001b[0m\u001b[0;34m.\u001b[0m\u001b[0mdrop\u001b[0m\u001b[0;34m(\u001b[0m\u001b[0mlabels\u001b[0m\u001b[0;34m,\u001b[0m \u001b[0merrors\u001b[0m\u001b[0;34m=\u001b[0m\u001b[0merrors\u001b[0m\u001b[0;34m)\u001b[0m\u001b[0;34m\u001b[0m\u001b[0m\n\u001b[0m\u001b[1;32m   2563\u001b[0m             \u001b[0mdropped\u001b[0m \u001b[0;34m=\u001b[0m \u001b[0mself\u001b[0m\u001b[0;34m.\u001b[0m\u001b[0mreindex\u001b[0m\u001b[0;34m(\u001b[0m\u001b[0;34m**\u001b[0m\u001b[0;34m{\u001b[0m\u001b[0maxis_name\u001b[0m\u001b[0;34m:\u001b[0m \u001b[0mnew_axis\u001b[0m\u001b[0;34m}\u001b[0m\u001b[0;34m)\u001b[0m\u001b[0;34m\u001b[0m\u001b[0m\n\u001b[1;32m   2564\u001b[0m             \u001b[0;32mtry\u001b[0m\u001b[0;34m:\u001b[0m\u001b[0;34m\u001b[0m\u001b[0m\n",
      "\u001b[0;32m/opt/conda/lib/python3.6/site-packages/pandas/core/indexes/base.py\u001b[0m in \u001b[0;36mdrop\u001b[0;34m(self, labels, errors)\u001b[0m\n\u001b[1;32m   3742\u001b[0m             \u001b[0;32mif\u001b[0m \u001b[0merrors\u001b[0m \u001b[0;34m!=\u001b[0m \u001b[0;34m'ignore'\u001b[0m\u001b[0;34m:\u001b[0m\u001b[0;34m\u001b[0m\u001b[0m\n\u001b[1;32m   3743\u001b[0m                 raise ValueError('labels %s not contained in axis' %\n\u001b[0;32m-> 3744\u001b[0;31m                                  labels[mask])\n\u001b[0m\u001b[1;32m   3745\u001b[0m             \u001b[0mindexer\u001b[0m \u001b[0;34m=\u001b[0m \u001b[0mindexer\u001b[0m\u001b[0;34m[\u001b[0m\u001b[0;34m~\u001b[0m\u001b[0mmask\u001b[0m\u001b[0;34m]\u001b[0m\u001b[0;34m\u001b[0m\u001b[0m\n\u001b[1;32m   3746\u001b[0m         \u001b[0;32mreturn\u001b[0m \u001b[0mself\u001b[0m\u001b[0;34m.\u001b[0m\u001b[0mdelete\u001b[0m\u001b[0;34m(\u001b[0m\u001b[0mindexer\u001b[0m\u001b[0;34m)\u001b[0m\u001b[0;34m\u001b[0m\u001b[0m\n",
      "\u001b[0;31mValueError\u001b[0m: labels ['EVENT_ID_CNTY'] not contained in axis"
     ]
    }
   ],
   "source": [
    "# Drop Columns from Asia Data Set\n",
    "acled_asia.drop('EVENT_ID_CNTY', axis=1, inplace=True)\n",
    "acled_asia.drop('EVENT_ID_NO_CNTY', axis=1, inplace=True)\n",
    "acled_asia.drop('TIME_PRECISION', axis=1, inplace=True)\n",
    "acled_asia.drop('YEAR', axis=1, inplace=True)\n",
    "acled_asia.drop('ACTOR1', axis=1, inplace=True)\n",
    "acled_asia.drop('ACTOR2', axis=1, inplace=True)\n",
    "acled_asia.drop('INTER1', axis=1, inplace=True)\n",
    "acled_asia.drop('INTER2', axis=1, inplace=True)\n",
    "acled_asia.drop('INTERACTION', axis=1, inplace=True)\n",
    "acled_asia.drop('ADMIN1', axis=1, inplace=True)\n",
    "acled_asia.drop('ADMIN2', axis=1, inplace=True)\n",
    "acled_asia.drop('ADMIN3', axis=1, inplace=True)\n",
    "acled_asia.drop('SOURCE', axis=1, inplace=True)\n",
    "acled_asia.drop('NOTES', axis=1, inplace=True)\n",
    "acled_asia.drop('FATALITIES', axis=1, inplace=True)\n",
    "acled_asia.drop('GEO_PRECISION', axis=1, inplace=True)\n",
    "\n",
    "# Drop Columns from Africa Data Set\n",
    "acled_africa.drop('EVENT_ID_CNTY', axis=1, inplace=True)\n",
    "acled_africa.drop('EVENT_ID_NO_CNTY', axis=1, inplace=True)\n",
    "acled_africa.drop('TIME_PRECISION', axis=1, inplace=True)\n",
    "acled_africa.drop('YEAR', axis=1, inplace=True)\n",
    "acled_africa.drop('ACTOR1', axis=1, inplace=True)\n",
    "acled_africa.drop('ACTOR2', axis=1, inplace=True)\n",
    "acled_africa.drop('INTER1', axis=1, inplace=True)\n",
    "acled_africa.drop('INTER2', axis=1, inplace=True)\n",
    "acled_africa.drop('INTERACTION', axis=1, inplace=True)\n",
    "acled_africa.drop('ADMIN1', axis=1, inplace=True)\n",
    "acled_africa.drop('ADMIN2', axis=1, inplace=True)\n",
    "acled_africa.drop('ADMIN3', axis=1, inplace=True)\n",
    "acled_africa.drop('SOURCE', axis=1, inplace=True)\n",
    "acled_africa.drop('NOTES', axis=1, inplace=True)\n",
    "acled_africa.drop('FATALITIES', axis=1, inplace=True)\n",
    "acled_africa.drop('GEO_PRECISION', axis=1, inplace=True)\n",
    "\n",
    "# Drop Columns from Middle East Data Set\n",
    "acled_middleeast.drop('EVENT_ID_CNTY', axis=1, inplace=True)\n",
    "acled_middleeast.drop('EVENT_ID_NO_CNTY', axis=1, inplace=True)\n",
    "acled_middleeast.drop('TIME_PRECISION', axis=1, inplace=True)\n",
    "acled_middleeast.drop('YEAR', axis=1, inplace=True)\n",
    "acled_middleeast.drop('ACTOR1', axis=1, inplace=True)\n",
    "acled_middleeast.drop('ACTOR2', axis=1, inplace=True)\n",
    "acled_middleeast.drop('INTER1', axis=1, inplace=True)\n",
    "acled_middleeast.drop('INTER2', axis=1, inplace=True)\n",
    "acled_middleeast.drop('INTERACTION', axis=1, inplace=True)\n",
    "acled_middleeast.drop('ADMIN1', axis=1, inplace=True)\n",
    "acled_middleeast.drop('ADMIN2', axis=1, inplace=True)\n",
    "acled_middleeast.drop('ADMIN3', axis=1, inplace=True)\n",
    "acled_middleeast.drop('SOURCE', axis=1, inplace=True)\n",
    "acled_middleeast.drop('NOTES', axis=1, inplace=True)\n",
    "acled_middleeast.drop('FATALITIES', axis=1, inplace=True)\n",
    "acled_middleeast.drop('GEO_PRECISION', axis=1, inplace=True)"
   ]
  },
  {
   "cell_type": "code",
   "execution_count": 5,
   "metadata": {},
   "outputs": [],
   "source": [
    "# Rename Columns in Africa Data Set\n",
    "acled_africa.rename(columns={'GWNO':'Gwno'}, inplace=True)\n",
    "acled_africa.rename(columns={'EVENT_DATE':'EventDate'}, inplace=True)\n",
    "acled_africa.rename(columns={'YEAR':'Year'}, inplace=True)\n",
    "acled_africa.rename(columns={'EVENT_TYPE':'EventType'}, inplace=True)\n",
    "acled_africa.rename(columns={'ACTOR1':'Actor1'}, inplace=True)\n",
    "acled_africa.rename(columns={'ACTOR2':'Actor2'}, inplace=True)\n",
    "acled_africa.rename(columns={'COUNTRY':'Country'}, inplace=True)\n",
    "acled_africa.rename(columns={'LOCATION':'Location'}, inplace=True)\n",
    "acled_africa.rename(columns={'LATITUDE':'Latitude'}, inplace=True)\n",
    "acled_africa.rename(columns={'LONGITUDE':'Longitude'}, inplace=True)\n",
    "\n",
    "# Rename Columns in Asia Data Set\n",
    "acled_asia.rename(columns={'GWNO':'Gwno'}, inplace=True)\n",
    "acled_asia.rename(columns={'EVENT_DATE':'EventDate'}, inplace=True)\n",
    "acled_asia.rename(columns={'YEAR':'Year'}, inplace=True)\n",
    "acled_asia.rename(columns={'EVENT_TYPE':'EventType'}, inplace=True)\n",
    "acled_asia.rename(columns={'ACTOR1':'Actor1'}, inplace=True)\n",
    "acled_asia.rename(columns={'ACTOR2':'Actor2'}, inplace=True)\n",
    "acled_asia.rename(columns={'COUNTRY':'Country'}, inplace=True)\n",
    "acled_asia.rename(columns={'LOCATION':'Location'}, inplace=True)\n",
    "acled_asia.rename(columns={'LATITUDE':'Latitude'}, inplace=True)\n",
    "acled_asia.rename(columns={'LONGITUDE':'Longitude'}, inplace=True)\n",
    "\n",
    "# Rename Columns in Middle East Data Set\n",
    "acled_middleeast.rename(columns={'GWNO':'Gwno'}, inplace=True)\n",
    "acled_middleeast.rename(columns={'EVENT_DATE':'EventDate'}, inplace=True)\n",
    "acled_middleeast.rename(columns={'YEAR':'Year'}, inplace=True)\n",
    "acled_middleeast.rename(columns={'EVENT_TYPE':'EventType'}, inplace=True)\n",
    "acled_middleeast.rename(columns={'ACTOR1':'Actor1'}, inplace=True)\n",
    "acled_middleeast.rename(columns={'ACTOR2':'Actor2'}, inplace=True)\n",
    "acled_middleeast.rename(columns={'COUNTRY':'Country'}, inplace=True)\n",
    "acled_middleeast.rename(columns={'LOCATION':'Location'}, inplace=True)\n",
    "acled_middleeast.rename(columns={'LATITUDE':'Latitude'}, inplace=True)\n",
    "acled_middleeast.rename(columns={'LONGITUDE':'Longitude'}, inplace=True)"
   ]
  },
  {
   "cell_type": "code",
   "execution_count": 6,
   "metadata": {},
   "outputs": [],
   "source": [
    "# Re-Order Africa Data Set\n",
    "acled_africa=acled_africa[['EventType', 'EventDate', 'Country', 'Location', 'Latitude', 'Longitude']]\n",
    "\n",
    "# Re-Order Asia Data Set\n",
    "acled_asia=acled_asia[['EventType', 'EventDate', 'Country', 'Location', 'Latitude', 'Longitude']]\n",
    "\n",
    "# Re-Order Middle East Data Set\n",
    "acled_middleeast=acled_middleeast[['EventType', 'EventDate', 'Country', 'Location', 'Latitude', 'Longitude']]"
   ]
  },
  {
   "cell_type": "code",
   "execution_count": 7,
   "metadata": {},
   "outputs": [
    {
     "data": {
      "text/plain": [
       "(28074, 6)"
      ]
     },
     "execution_count": 7,
     "metadata": {},
     "output_type": "execute_result"
    }
   ],
   "source": [
    "# Shape of Africa Data Set\n",
    "acled_africa.shape"
   ]
  },
  {
   "cell_type": "code",
   "execution_count": 8,
   "metadata": {},
   "outputs": [
    {
     "data": {
      "text/plain": [
       "(24373, 6)"
      ]
     },
     "execution_count": 8,
     "metadata": {},
     "output_type": "execute_result"
    }
   ],
   "source": [
    "# Shape of Asia Data Set\n",
    "acled_asia.shape"
   ]
  },
  {
   "cell_type": "code",
   "execution_count": 9,
   "metadata": {},
   "outputs": [
    {
     "data": {
      "text/plain": [
       "(26888, 6)"
      ]
     },
     "execution_count": 9,
     "metadata": {},
     "output_type": "execute_result"
    }
   ],
   "source": [
    "# Shape of Middle East Data Set\n",
    "acled_middleeast.shape"
   ]
  },
  {
   "cell_type": "code",
   "execution_count": 10,
   "metadata": {},
   "outputs": [
    {
     "name": "stderr",
     "output_type": "stream",
     "text": [
      "/opt/conda/lib/python3.6/site-packages/pandas/core/indexing.py:537: SettingWithCopyWarning: \n",
      "A value is trying to be set on a copy of a slice from a DataFrame.\n",
      "Try using .loc[row_indexer,col_indexer] = value instead\n",
      "\n",
      "See the caveats in the documentation: http://pandas.pydata.org/pandas-docs/stable/indexing.html#indexing-view-versus-copy\n",
      "  self.obj[item] = s\n"
     ]
    }
   ],
   "source": [
    "# Recode Event Type for Africa Data Set# Recode  \n",
    "acled_africa.loc[acled_africa.EventType == 'Battle-No change of territory', 'EventType'] = 1\n",
    "acled_africa.loc[acled_africa.EventType == 'Remote violence', 'EventType'] = 2\n",
    "acled_africa.loc[acled_africa.EventType == 'Strategic development', 'EventType'] = 4\n",
    "acled_africa.loc[acled_africa.EventType == 'Riots/Protests', 'EventType'] = 6\n",
    "acled_africa.loc[acled_africa.EventType == 'Violence against civilians', 'EventType'] = 7\n",
    "\n",
    "# Recode Event Type for Asia Data Set# Recode  \n",
    "acled_asia.loc[acled_asia.EventType == 'Battle-No change of territory', 'EventType'] = 1\n",
    "acled_asia.loc[acled_asia.EventType == 'Remote violence', 'EventType'] = 2\n",
    "acled_asia.loc[acled_asia.EventType == 'Strategic development', 'EventType'] = 4\n",
    "acled_asia.loc[acled_asia.EventType == 'Riots/Protests', 'EventType'] = 6\n",
    "acled_asia.loc[acled_asia.EventType == 'Violence against civilians', 'EventType'] = 7\n",
    "\n",
    "# Recode Event Type for Middle East Data Set#\n",
    "acled_middleeast.loc[acled_middleeast.EventType == 'Battle-No change of territory', 'EventType'] = 1\n",
    "acled_middleeast.loc[acled_middleeast.EventType == 'Remote violence', 'EventType'] = 2\n",
    "acled_middleeast.loc[acled_middleeast.EventType == 'Strategic development', 'EventType'] = 4\n",
    "acled_middleeast.loc[acled_middleeast.EventType == 'Riots/Protests', 'EventType'] = 6\n",
    "acled_middleeast.loc[acled_middleeast.EventType == 'Violence against civilians', 'EventType'] = 7"
   ]
  },
  {
   "cell_type": "code",
   "execution_count": 11,
   "metadata": {},
   "outputs": [],
   "source": [
    "# Concatenate Africa, Asia, and Middle East Data Sets\n",
    "acled = [acled_asia, acled_africa, acled_middleeast]\n",
    "acled = pd.concat(acled)\n",
    "\n",
    "# Convert Date Column into Year, Month, and Day\n",
    "acled['date'] = pd.to_datetime(acled['EventDate'])\n",
    "acled['year'] = acled['date'].dt.year\n",
    "acled['month'] = acled['date'].dt.month\n",
    "acled['day'] = acled['date'].dt.day\n",
    "\n",
    "# Recode Event Type for Data Set\n",
    "acled.loc[acled.EventType == '1', 'EventType'] = 'Battle-No change of territory'\n",
    "acled.loc[acled.EventType == '2', 'EventType'] = 'Remote violence'\n",
    "acled.loc[acled.EventType == '4', 'EventType'] = 'Strategic development'\n",
    "acled.loc[acled.EventType == '6', 'EventType'] = 'Riots/Protests'\n",
    "acled.loc[acled.EventType == '7', 'EventType'] = 'Violence against civilians'\n",
    "\n",
    "# Rename Country Names\n",
    "acled.loc[acled.Country == 'Congo, Democratic Republic of (Zaire)', 'Country'] = 'Congo, DR'\n",
    "acled.loc[acled.Country == 'Cote Dâ€™Ivoire', 'Country'] = 'Ivory Coast'"
   ]
  },
  {
   "cell_type": "code",
   "execution_count": 12,
   "metadata": {},
   "outputs": [
    {
     "data": {
      "text/plain": [
       "(79335, 10)"
      ]
     },
     "execution_count": 12,
     "metadata": {},
     "output_type": "execute_result"
    }
   ],
   "source": [
    "# Shape of Total ACLED Data Set\n",
    "acled.shape"
   ]
  },
  {
   "cell_type": "code",
   "execution_count": 13,
   "metadata": {},
   "outputs": [],
   "source": [
    "# Separate ACLED Data Set into Event Types\n",
    "acled_eventtype_1 = acled[acled.EventType == 1]\n",
    "acled_eventtype_2 = acled[acled.EventType == 2]\n",
    "acled_eventtype_3 = acled[acled.EventType == 3]\n",
    "acled_eventtype_4 = acled[acled.EventType == 4]\n",
    "acled_eventtype_5 = acled[acled.EventType == 5]\n",
    "acled_eventtype_6 = acled[acled.EventType == 6]\n",
    "acled_eventtype_7 = acled[acled.EventType == 7]\n",
    "acled_eventtype_8 = acled[acled.EventType == 8]\n",
    "\n",
    "# Create dataframes for different Event Types by Year\n",
    "acled_eventtype_1_year = acled_eventtype_1.groupby(['Country', 'year'])['EventType'].count().reset_index()\n",
    "acled_eventtype_2_year = acled_eventtype_2.groupby(['Country', 'year'])['EventType'].count().reset_index()\n",
    "acled_eventtype_3_year = acled_eventtype_3.groupby(['Country', 'year'])['EventType'].count().reset_index()\n",
    "acled_eventtype_4_year = acled_eventtype_4.groupby(['Country', 'year'])['EventType'].count().reset_index()\n",
    "acled_eventtype_5_year = acled_eventtype_5.groupby(['Country', 'year'])['EventType'].count().reset_index()\n",
    "acled_eventtype_6_year = acled_eventtype_6.groupby(['Country', 'year'])['EventType'].count().reset_index()\n",
    "acled_eventtype_7_year = acled_eventtype_7.groupby(['Country', 'year'])['EventType'].count().reset_index()\n",
    "acled_eventtype_8_year = acled_eventtype_8.groupby(['Country', 'year'])['EventType'].count().reset_index()\n",
    "\n",
    "# Rename Columns in Event Type dataframes\n",
    "acled_eventtype_1_year.rename(columns={'EventType':'EventType1'}, inplace=True)\n",
    "acled_eventtype_2_year.rename(columns={'EventType':'EventType2'}, inplace=True)\n",
    "acled_eventtype_3_year.rename(columns={'EventType':'EventType3'}, inplace=True)\n",
    "acled_eventtype_4_year.rename(columns={'EventType':'EventType4'}, inplace=True)\n",
    "acled_eventtype_5_year.rename(columns={'EventType':'EventType5'}, inplace=True)\n",
    "acled_eventtype_6_year.rename(columns={'EventType':'EventType6'}, inplace=True)\n",
    "acled_eventtype_7_year.rename(columns={'EventType':'EventType7'}, inplace=True)\n",
    "acled_eventtype_8_year.rename(columns={'EventType':'EventType8'}, inplace=True)\n",
    "\n",
    "# Merge Event Type dataframes together\n",
    "acled_eventtype_total = acled_eventtype_1_year.merge(acled_eventtype_2_year, on=['Country', 'year'], how='left')\n",
    "acled_eventtype_total = acled_eventtype_total.merge(acled_eventtype_3_year, on=['Country', 'year'], how='left')\n",
    "acled_eventtype_total = acled_eventtype_total.merge(acled_eventtype_4_year, on=['Country', 'year'], how='left')\n",
    "acled_eventtype_total = acled_eventtype_total.merge(acled_eventtype_5_year, on=['Country', 'year'], how='left')\n",
    "acled_eventtype_total = acled_eventtype_total.merge(acled_eventtype_6_year, on=['Country', 'year'], how='left')\n",
    "acled_eventtype_total = acled_eventtype_total.merge(acled_eventtype_7_year, on=['Country', 'year'], how='left')\n",
    "acled_eventtype_total = acled_eventtype_total.merge(acled_eventtype_8_year, on=['Country', 'year'], how='left')"
   ]
  },
  {
   "cell_type": "code",
   "execution_count": 14,
   "metadata": {},
   "outputs": [],
   "source": [
    "# Replace NaN values with 0\n",
    "acled_eventtype_total=acled_eventtype_total.fillna(0)\n",
    "\n",
    "# Create a Column Summing up Total Events\n",
    "acled_eventtype_total['TotalEvents'] = acled_eventtype_total['EventType1'] + acled_eventtype_total['EventType2'] + acled_eventtype_total['EventType3'] + acled_eventtype_total['EventType4'] + acled_eventtype_total['EventType5'] + acled_eventtype_total['EventType6'] + acled_eventtype_total['EventType7'] + acled_eventtype_total['EventType8']\n",
    "\n",
    "# Create Dataframe for Total Events for each Country\n",
    "acled_country = acled_eventtype_total.groupby(['Country'])['TotalEvents'].sum().reset_index()\n",
    "\n",
    "# Create Dataframe for Total Events for each Year\n",
    "acled_year = acled_eventtype_total.groupby(['year'])['TotalEvents'].sum().reset_index()"
   ]
  },
  {
   "cell_type": "markdown",
   "metadata": {},
   "source": [
    "# Bar Graph for Armed Conflict Events per Country"
   ]
  },
  {
   "cell_type": "code",
   "execution_count": 15,
   "metadata": {},
   "outputs": [
    {
     "data": {
      "image/png": "[encoded data removed]",
      "text/plain": [
       "<Figure size 1440x1440 with 1 Axes>"
      ]
     },
     "metadata": {
      "image/png": {
       "height": 1128,
       "width": 1299
      }
     },
     "output_type": "display_data"
    }
   ],
   "source": [
    "fig = plt.figure(figsize=(20,20))\n",
    "ax =sns.barplot(x=\"TotalEvents\", y=\"Country\", data=acled_country)"
   ]
  },
  {
   "cell_type": "markdown",
   "metadata": {},
   "source": [
    "The data shows that most armed conflict events have occurred in Syria, Pakistan, India, Yemen, Nigeria, and Somalia."
   ]
  },
  {
   "cell_type": "markdown",
   "metadata": {},
   "source": [
    "# Bar Graph for Armed Conflict Events per Year"
   ]
  },
  {
   "cell_type": "code",
   "execution_count": 16,
   "metadata": {},
   "outputs": [
    {
     "data": {
      "image/png": "[encoded data removed]",
      "text/plain": [
       "<Figure size 1440x1440 with 1 Axes>"
      ]
     },
     "metadata": {
      "image/png": {
       "height": 1128,
       "width": 1179
      }
     },
     "output_type": "display_data"
    }
   ],
   "source": [
    "fig = plt.figure(figsize=(20,20))\n",
    "ax =sns.barplot(x=\"year\", y=\"TotalEvents\", data=acled_year)"
   ]
  },
  {
   "cell_type": "markdown",
   "metadata": {},
   "source": [
    "The data shows that the number of armed conflict events have been increasing at an accelerating rate since 2010 and have peaked in 2017."
   ]
  },
  {
   "cell_type": "markdown",
   "metadata": {},
   "source": [
    "# Table of Event Types by Country and Year"
   ]
  },
  {
   "cell_type": "code",
   "execution_count": 17,
   "metadata": {},
   "outputs": [
    {
     "data": {
      "text/html": [
       "<div>\n",
       "<style scoped>\n",
       "    .dataframe tbody tr th:only-of-type {\n",
       "        vertical-align: middle;\n",
       "    }\n",
       "\n",
       "    .dataframe tbody tr th {\n",
       "        vertical-align: top;\n",
       "    }\n",
       "\n",
       "    .dataframe thead th {\n",
       "        text-align: right;\n",
       "    }\n",
       "</style>\n",
       "<table border=\"1\" class=\"dataframe\">\n",
       "  <thead>\n",
       "    <tr style=\"text-align: right;\">\n",
       "      <th></th>\n",
       "      <th>0</th>\n",
       "      <th>157</th>\n",
       "      <th>158</th>\n",
       "      <th>1</th>\n",
       "      <th>45</th>\n",
       "      <th>47</th>\n",
       "      <th>159</th>\n",
       "      <th>199</th>\n",
       "      <th>71</th>\n",
       "      <th>179</th>\n",
       "      <th>...</th>\n",
       "      <th>185</th>\n",
       "      <th>81</th>\n",
       "      <th>132</th>\n",
       "      <th>192</th>\n",
       "      <th>190</th>\n",
       "      <th>187</th>\n",
       "      <th>32</th>\n",
       "      <th>52</th>\n",
       "      <th>80</th>\n",
       "      <th>51</th>\n",
       "    </tr>\n",
       "  </thead>\n",
       "  <tbody>\n",
       "    <tr>\n",
       "      <th>Country</th>\n",
       "      <td>Afghanistan</td>\n",
       "      <td>Iraq</td>\n",
       "      <td>Iraq</td>\n",
       "      <td>Afghanistan</td>\n",
       "      <td>Bangladesh</td>\n",
       "      <td>Bangladesh</td>\n",
       "      <td>Iraq</td>\n",
       "      <td>Syria</td>\n",
       "      <td>Burundi</td>\n",
       "      <td>Palestine</td>\n",
       "      <td>...</td>\n",
       "      <td>Republic of Congo</td>\n",
       "      <td>Cameroon</td>\n",
       "      <td>Chad</td>\n",
       "      <td>Republic of Congo</td>\n",
       "      <td>Republic of Congo</td>\n",
       "      <td>Republic of Congo</td>\n",
       "      <td>Angola</td>\n",
       "      <td>Botswana</td>\n",
       "      <td>Cameroon</td>\n",
       "      <td>Botswana</td>\n",
       "    </tr>\n",
       "    <tr>\n",
       "      <th>year</th>\n",
       "      <td>2017</td>\n",
       "      <td>2016</td>\n",
       "      <td>2017</td>\n",
       "      <td>2018</td>\n",
       "      <td>2013</td>\n",
       "      <td>2015</td>\n",
       "      <td>2018</td>\n",
       "      <td>2017</td>\n",
       "      <td>2015</td>\n",
       "      <td>2017</td>\n",
       "      <td>...</td>\n",
       "      <td>2001</td>\n",
       "      <td>2003</td>\n",
       "      <td>2013</td>\n",
       "      <td>2013</td>\n",
       "      <td>2007</td>\n",
       "      <td>2003</td>\n",
       "      <td>2005</td>\n",
       "      <td>2010</td>\n",
       "      <td>1999</td>\n",
       "      <td>2009</td>\n",
       "    </tr>\n",
       "    <tr>\n",
       "      <th>EventType1</th>\n",
       "      <td>5086</td>\n",
       "      <td>1210</td>\n",
       "      <td>1427</td>\n",
       "      <td>2084</td>\n",
       "      <td>260</td>\n",
       "      <td>236</td>\n",
       "      <td>491</td>\n",
       "      <td>364</td>\n",
       "      <td>218</td>\n",
       "      <td>70</td>\n",
       "      <td>...</td>\n",
       "      <td>3</td>\n",
       "      <td>1</td>\n",
       "      <td>2</td>\n",
       "      <td>2</td>\n",
       "      <td>1</td>\n",
       "      <td>2</td>\n",
       "      <td>2</td>\n",
       "      <td>1</td>\n",
       "      <td>1</td>\n",
       "      <td>1</td>\n",
       "    </tr>\n",
       "    <tr>\n",
       "      <th>EventType2</th>\n",
       "      <td>2073</td>\n",
       "      <td>4151</td>\n",
       "      <td>2648</td>\n",
       "      <td>838</td>\n",
       "      <td>45</td>\n",
       "      <td>91</td>\n",
       "      <td>829</td>\n",
       "      <td>1083</td>\n",
       "      <td>6</td>\n",
       "      <td>64</td>\n",
       "      <td>...</td>\n",
       "      <td>1</td>\n",
       "      <td>0</td>\n",
       "      <td>0</td>\n",
       "      <td>0</td>\n",
       "      <td>0</td>\n",
       "      <td>0</td>\n",
       "      <td>0</td>\n",
       "      <td>0</td>\n",
       "      <td>0</td>\n",
       "      <td>0</td>\n",
       "    </tr>\n",
       "    <tr>\n",
       "      <th>EventType3</th>\n",
       "      <td>0</td>\n",
       "      <td>0</td>\n",
       "      <td>0</td>\n",
       "      <td>0</td>\n",
       "      <td>0</td>\n",
       "      <td>0</td>\n",
       "      <td>0</td>\n",
       "      <td>0</td>\n",
       "      <td>0</td>\n",
       "      <td>0</td>\n",
       "      <td>...</td>\n",
       "      <td>0</td>\n",
       "      <td>0</td>\n",
       "      <td>0</td>\n",
       "      <td>0</td>\n",
       "      <td>0</td>\n",
       "      <td>0</td>\n",
       "      <td>0</td>\n",
       "      <td>0</td>\n",
       "      <td>0</td>\n",
       "      <td>0</td>\n",
       "    </tr>\n",
       "    <tr>\n",
       "      <th>EventType4</th>\n",
       "      <td>289</td>\n",
       "      <td>314</td>\n",
       "      <td>319</td>\n",
       "      <td>144</td>\n",
       "      <td>48</td>\n",
       "      <td>41</td>\n",
       "      <td>130</td>\n",
       "      <td>25</td>\n",
       "      <td>230</td>\n",
       "      <td>207</td>\n",
       "      <td>...</td>\n",
       "      <td>0</td>\n",
       "      <td>0</td>\n",
       "      <td>1</td>\n",
       "      <td>0</td>\n",
       "      <td>0</td>\n",
       "      <td>0</td>\n",
       "      <td>0</td>\n",
       "      <td>1</td>\n",
       "      <td>0</td>\n",
       "      <td>0</td>\n",
       "    </tr>\n",
       "    <tr>\n",
       "      <th>EventType5</th>\n",
       "      <td>0</td>\n",
       "      <td>0</td>\n",
       "      <td>0</td>\n",
       "      <td>0</td>\n",
       "      <td>0</td>\n",
       "      <td>0</td>\n",
       "      <td>0</td>\n",
       "      <td>0</td>\n",
       "      <td>0</td>\n",
       "      <td>0</td>\n",
       "      <td>...</td>\n",
       "      <td>0</td>\n",
       "      <td>0</td>\n",
       "      <td>0</td>\n",
       "      <td>0</td>\n",
       "      <td>0</td>\n",
       "      <td>0</td>\n",
       "      <td>0</td>\n",
       "      <td>0</td>\n",
       "      <td>0</td>\n",
       "      <td>0</td>\n",
       "    </tr>\n",
       "    <tr>\n",
       "      <th>EventType6</th>\n",
       "      <td>134</td>\n",
       "      <td>102</td>\n",
       "      <td>54</td>\n",
       "      <td>173</td>\n",
       "      <td>1638</td>\n",
       "      <td>1005</td>\n",
       "      <td>129</td>\n",
       "      <td>15</td>\n",
       "      <td>411</td>\n",
       "      <td>907</td>\n",
       "      <td>...</td>\n",
       "      <td>0</td>\n",
       "      <td>1</td>\n",
       "      <td>1</td>\n",
       "      <td>1</td>\n",
       "      <td>1</td>\n",
       "      <td>0</td>\n",
       "      <td>1</td>\n",
       "      <td>0</td>\n",
       "      <td>1</td>\n",
       "      <td>1</td>\n",
       "    </tr>\n",
       "    <tr>\n",
       "      <th>EventType7</th>\n",
       "      <td>239</td>\n",
       "      <td>351</td>\n",
       "      <td>372</td>\n",
       "      <td>123</td>\n",
       "      <td>505</td>\n",
       "      <td>410</td>\n",
       "      <td>126</td>\n",
       "      <td>65</td>\n",
       "      <td>675</td>\n",
       "      <td>148</td>\n",
       "      <td>...</td>\n",
       "      <td>1</td>\n",
       "      <td>2</td>\n",
       "      <td>0</td>\n",
       "      <td>0</td>\n",
       "      <td>1</td>\n",
       "      <td>1</td>\n",
       "      <td>0</td>\n",
       "      <td>1</td>\n",
       "      <td>0</td>\n",
       "      <td>0</td>\n",
       "    </tr>\n",
       "    <tr>\n",
       "      <th>EventType8</th>\n",
       "      <td>0</td>\n",
       "      <td>0</td>\n",
       "      <td>0</td>\n",
       "      <td>0</td>\n",
       "      <td>0</td>\n",
       "      <td>0</td>\n",
       "      <td>0</td>\n",
       "      <td>0</td>\n",
       "      <td>0</td>\n",
       "      <td>0</td>\n",
       "      <td>...</td>\n",
       "      <td>0</td>\n",
       "      <td>0</td>\n",
       "      <td>0</td>\n",
       "      <td>0</td>\n",
       "      <td>0</td>\n",
       "      <td>0</td>\n",
       "      <td>0</td>\n",
       "      <td>0</td>\n",
       "      <td>0</td>\n",
       "      <td>0</td>\n",
       "    </tr>\n",
       "    <tr>\n",
       "      <th>TotalEvents</th>\n",
       "      <td>7821</td>\n",
       "      <td>6128</td>\n",
       "      <td>4820</td>\n",
       "      <td>3362</td>\n",
       "      <td>2496</td>\n",
       "      <td>1783</td>\n",
       "      <td>1705</td>\n",
       "      <td>1552</td>\n",
       "      <td>1540</td>\n",
       "      <td>1396</td>\n",
       "      <td>...</td>\n",
       "      <td>5</td>\n",
       "      <td>4</td>\n",
       "      <td>4</td>\n",
       "      <td>3</td>\n",
       "      <td>3</td>\n",
       "      <td>3</td>\n",
       "      <td>3</td>\n",
       "      <td>3</td>\n",
       "      <td>2</td>\n",
       "      <td>2</td>\n",
       "    </tr>\n",
       "  </tbody>\n",
       "</table>\n",
       "<p>11 rows × 200 columns</p>\n",
       "</div>"
      ],
      "text/plain": [
       "                     0     157   158          1           45          47   \\\n",
       "Country      Afghanistan  Iraq  Iraq  Afghanistan  Bangladesh  Bangladesh   \n",
       "year                2017  2016  2017         2018        2013        2015   \n",
       "EventType1          5086  1210  1427         2084         260         236   \n",
       "EventType2          2073  4151  2648          838          45          91   \n",
       "EventType3             0     0     0            0           0           0   \n",
       "EventType4           289   314   319          144          48          41   \n",
       "EventType5             0     0     0            0           0           0   \n",
       "EventType6           134   102    54          173        1638        1005   \n",
       "EventType7           239   351   372          123         505         410   \n",
       "EventType8             0     0     0            0           0           0   \n",
       "TotalEvents         7821  6128  4820         3362        2496        1783   \n",
       "\n",
       "              159    199      71         179    ...                   185  \\\n",
       "Country      Iraq  Syria  Burundi  Palestine    ...     Republic of Congo   \n",
       "year         2018   2017     2015       2017    ...                  2001   \n",
       "EventType1    491    364      218         70    ...                     3   \n",
       "EventType2    829   1083        6         64    ...                     1   \n",
       "EventType3      0      0        0          0    ...                     0   \n",
       "EventType4    130     25      230        207    ...                     0   \n",
       "EventType5      0      0        0          0    ...                     0   \n",
       "EventType6    129     15      411        907    ...                     0   \n",
       "EventType7    126     65      675        148    ...                     1   \n",
       "EventType8      0      0        0          0    ...                     0   \n",
       "TotalEvents  1705   1552     1540       1396    ...                     5   \n",
       "\n",
       "                  81    132                192                190  \\\n",
       "Country      Cameroon  Chad  Republic of Congo  Republic of Congo   \n",
       "year             2003  2013               2013               2007   \n",
       "EventType1          1     2                  2                  1   \n",
       "EventType2          0     0                  0                  0   \n",
       "EventType3          0     0                  0                  0   \n",
       "EventType4          0     1                  0                  0   \n",
       "EventType5          0     0                  0                  0   \n",
       "EventType6          1     1                  1                  1   \n",
       "EventType7          2     0                  0                  1   \n",
       "EventType8          0     0                  0                  0   \n",
       "TotalEvents         4     4                  3                  3   \n",
       "\n",
       "                           187     32        52        80        51   \n",
       "Country      Republic of Congo  Angola  Botswana  Cameroon  Botswana  \n",
       "year                      2003    2005      2010      1999      2009  \n",
       "EventType1                   2       2         1         1         1  \n",
       "EventType2                   0       0         0         0         0  \n",
       "EventType3                   0       0         0         0         0  \n",
       "EventType4                   0       0         1         0         0  \n",
       "EventType5                   0       0         0         0         0  \n",
       "EventType6                   0       1         0         1         1  \n",
       "EventType7                   1       0         1         0         0  \n",
       "EventType8                   0       0         0         0         0  \n",
       "TotalEvents                  3       3         3         2         2  \n",
       "\n",
       "[11 rows x 200 columns]"
      ]
     },
     "execution_count": 17,
     "metadata": {},
     "output_type": "execute_result"
    }
   ],
   "source": [
    "acled_eventtype_total.sort_values('TotalEvents', ascending=0).T"
   ]
  },
  {
   "cell_type": "markdown",
   "metadata": {},
   "source": [
    "The most armed conflict events are occurring in Syria in 2018 and 2017 of the event type Battle with No Change in Territory and Remote Violence, in India in 2017 and 2016 of the event type Rioting/Protesting, and in Yement in 2016 of event type Remote Violence. I plan to utilize this data set to observe features that are best predictors for different types of armed conflict events, the number of battle related deaths as the result of armed conflict, and the number of armed conflict events to have occurred."
   ]
  },
  {
   "cell_type": "markdown",
   "metadata": {},
   "source": [
    "# Indicator Dataframe 1: Poverty and Equity"
   ]
  },
  {
   "cell_type": "code",
   "execution_count": 18,
   "metadata": {},
   "outputs": [],
   "source": [
    "# Upload Poverty and Equity Data Set\n",
    "df1 = pd.read_csv('poverryandequity.csv')"
   ]
  },
  {
   "cell_type": "markdown",
   "metadata": {},
   "source": [
    "The Poverty and Equity Data Set contains information on national population at different income levels for different countries."
   ]
  },
  {
   "cell_type": "code",
   "execution_count": 19,
   "metadata": {},
   "outputs": [
    {
     "name": "stderr",
     "output_type": "stream",
     "text": [
      "/opt/conda/lib/python3.6/site-packages/pandas/core/frame.py:3027: SettingWithCopyWarning: \n",
      "A value is trying to be set on a copy of a slice from a DataFrame\n",
      "\n",
      "See the caveats in the documentation: http://pandas.pydata.org/pandas-docs/stable/indexing.html#indexing-view-versus-copy\n",
      "  return super(DataFrame, self).rename(**kwargs)\n"
     ]
    }
   ],
   "source": [
    "# Rename Column Names\n",
    "df1.rename(columns={'country':'Country'}, inplace=True)\n",
    "df1.rename(columns={'Date':'year'}, inplace=True)\n",
    "df1.rename(columns={'Value':'value'}, inplace=True)\n",
    "\n",
    "# Drop Columns\n",
    "df1.drop('Unit', axis=1, inplace=True)\n",
    "\n",
    "# Rename Country Names\n",
    "df1.loc[df1.Country == 'Congo, Dem. Rep.', 'Country'] = 'Congo, DR'\n",
    "df1.loc[df1.Country == 'Congo, Rep.', 'Country'] = 'Congo'\n",
    "df1.loc[df1.Country == \"Cote d'Ivoire\", 'Country'] = 'Ivory Coast'\n",
    "df1.loc[df1.Country == 'Lao PDR', 'Country'] = 'Laos'\n",
    "\n",
    "# Create Base Dataframe to Merge onto\n",
    "merge_base = pd.DataFrame(df1, columns = ['Country', 'year'])\n",
    "\n",
    "# Create List of Unique Values for Countries, Years, and Indicators\n",
    "indicators = df1.indicator.unique()\n",
    "years = df1.year.unique()\n",
    "countries = df1.Country.unique()\n",
    "\n",
    "# Create Dataframes for each Indicator, Rename Columns, and Merge onto Base Dataframe\n",
    "for i in indicators:\n",
    "    df1_i = df1[df1.indicator == i]\n",
    "    df1_i.rename(columns={'value':i}, inplace=True)\n",
    "    merge_base = pd.merge(merge_base, df1_i, on=['Country', 'year'], how='left')\n",
    "\n",
    "# Drop Duplicate Columns\n",
    "merge_base.drop('indicator_x', axis=1, inplace=True)\n",
    "merge_base.drop('indicator_y', axis=1, inplace=True)\n",
    "\n",
    "# Rename Base Dataframe\n",
    "df1_indicators = merge_base"
   ]
  },
  {
   "cell_type": "code",
   "execution_count": 20,
   "metadata": {},
   "outputs": [
    {
     "data": {
      "text/plain": [
       "(5492, 60)"
      ]
     },
     "execution_count": 20,
     "metadata": {},
     "output_type": "execute_result"
    }
   ],
   "source": [
    "# Shape of Indicator Data Set# Shape o \n",
    "df1_indicators.shape"
   ]
  },
  {
   "cell_type": "markdown",
   "metadata": {},
   "source": [
    "# Indicator Dataframe 2: Index of Economic Freedom"
   ]
  },
  {
   "cell_type": "code",
   "execution_count": 24,
   "metadata": {},
   "outputs": [],
   "source": [
    "# Upload Index of Economic Freedom Data Set\n",
    "df2 = pd.read_csv('indexofeconomicfreedom.csv')"
   ]
  },
  {
   "cell_type": "markdown",
   "metadata": {},
   "source": [
    "The Index of Economic Freedom Data Set contains information on the assessment of institutional capabilities in providing and protecting economic freedom in different countries"
   ]
  },
  {
   "cell_type": "code",
   "execution_count": 25,
   "metadata": {},
   "outputs": [
    {
     "name": "stderr",
     "output_type": "stream",
     "text": [
      "/opt/conda/lib/python3.6/site-packages/pandas/core/frame.py:3027: SettingWithCopyWarning: \n",
      "A value is trying to be set on a copy of a slice from a DataFrame\n",
      "\n",
      "See the caveats in the documentation: http://pandas.pydata.org/pandas-docs/stable/indexing.html#indexing-view-versus-copy\n",
      "  return super(DataFrame, self).rename(**kwargs)\n"
     ]
    }
   ],
   "source": [
    "# Rename Column Names\n",
    "df2.rename(columns={'country':'Country'}, inplace=True)\n",
    "df2.rename(columns={'Date':'year'}, inplace=True)\n",
    "df2.rename(columns={'Value':'value'}, inplace=True)\n",
    "\n",
    "# Drop Columns\n",
    "df2.drop('Unit', axis=1, inplace=True)\n",
    "\n",
    "# Rename Country Names\n",
    "df2.loc[df2.Country == 'Democratic Republic of Congo', 'Country'] = 'Congo, DR'\n",
    "df2.loc[df2.Country == 'Republic of Congo', 'Country'] = 'Congo'\n",
    "df2.loc[df2.Country == \"CÃ´te d'Ivoire\", 'Country'] = 'Ivory Coast'\n",
    "\n",
    "# Create Base Dataframe to Merge onto\n",
    "merge_base = pd.DataFrame(df2, columns = ['Country', 'year'])\n",
    "\n",
    "# Create List of Unique Values for Countries, Years, and Indicators\n",
    "indicators = df2.indicator.unique()\n",
    "years = df2.year.unique()\n",
    "countries = df2.Country.unique()\n",
    "\n",
    "# Create Dataframes for each Indicator, Rename Columns, and Merge onto Base Dataframe\n",
    "for i in indicators:\n",
    "    df2_i = df2[df2.indicator == i]\n",
    "    df2_i.rename(columns={'value':i}, inplace=True)\n",
    "    merge_base = pd.merge(merge_base, df2_i, on=['Country', 'year'], how='left')\n",
    "\n",
    "# Drop Duplicate Columns\n",
    "merge_base.drop('indicator', axis=1, inplace=True)\n",
    "merge_base.drop('indicator_x', axis=1, inplace=True)\n",
    "merge_base.drop('indicator_y', axis=1, inplace=True)\n",
    "\n",
    "# Rename Base Dataframe\n",
    "df2_indicators = merge_base"
   ]
  },
  {
   "cell_type": "code",
   "execution_count": 26,
   "metadata": {},
   "outputs": [
    {
     "data": {
      "text/plain": [
       "(40047, 15)"
      ]
     },
     "execution_count": 26,
     "metadata": {},
     "output_type": "execute_result"
    }
   ],
   "source": [
    "# Shape of Indicator Data Set\n",
    "df2_indicators.shape"
   ]
  },
  {
   "cell_type": "markdown",
   "metadata": {},
   "source": [
    "# Total Data Set"
   ]
  },
  {
   "cell_type": "code",
   "execution_count": 27,
   "metadata": {},
   "outputs": [],
   "source": [
    "# Merge Indicator Data Sets with ACLED Event Type Data Set\n",
    "data = pd.merge(acled_eventtype_total, df1_indicators, on=['Country', 'year'])"
   ]
  },
  {
   "cell_type": "code",
   "execution_count": 29,
   "metadata": {},
   "outputs": [],
   "source": [
    "data = data.reset_index()"
   ]
  },
  {
   "cell_type": "code",
   "execution_count": 39,
   "metadata": {},
   "outputs": [
    {
     "data": {
      "text/plain": [
       "index                                                                                                              float64\n",
       "Country                                                                                                             object\n",
       "year                                                                                                               float64\n",
       "EventType1                                                                                                         float64\n",
       "EventType2                                                                                                         float64\n",
       "EventType3                                                                                                         float64\n",
       "EventType4                                                                                                         float64\n",
       "EventType5                                                                                                         float64\n",
       "EventType6                                                                                                         float64\n",
       "EventType7                                                                                                         float64\n",
       "EventType8                                                                                                         float64\n",
       "TotalEvents                                                                                                        float64\n",
       "Number of poor at $1.25 a day (PPP) (millions)                                                                     float64\n",
       "Number of poor at $1.90 a day (2011 PPP) (millions)                                                                float64\n",
       "Number of poor at $2 a day (PPP) (millions)                                                                        float64\n",
       "Number of poor at $2.5 a day (PPP) (millions)                                                                      float64\n",
       "Number of poor at $3.10 a day (2011 PPP) (millions)                                                                float64\n",
       "Number of poor at $4 a day (PPP) (millions)                                                                        float64\n",
       "Number of poor at $5 a day (PPP) (millions)                                                                        float64\n",
       "Poverty gap at $1.25 a day (PPP) (%)                                                                               float64\n",
       "Poverty gap at $1.90 a day (2011 PPP) (%)                                                                          float64\n",
       "Poverty gap at $2 a day (PPP) (%)                                                                                  float64\n",
       "Poverty gap at $2.5 a day (PPP) (%)                                                                                float64\n",
       "Poverty gap at $3.10 a day (2011 PPP) (%)                                                                          float64\n",
       "Poverty gap at $4 a day (PPP) (%)                                                                                  float64\n",
       "Poverty gap at $5 a day (PPP) (%)                                                                                  float64\n",
       "Poverty headcount ratio at $1.25 a day (PPP) (% of population)                                                     float64\n",
       "Poverty headcount ratio at $1.90 a day (2011 PPP) (% of population)                                                float64\n",
       "Poverty headcount ratio at $2 a day (PPP) (% of population)                                                        float64\n",
       "Poverty headcount ratio at $2.5 a day (PPP) (% of population)                                                      float64\n",
       "                                                                                                                    ...   \n",
       "Poverty gap at urban poverty line (%), including noncomparable values                                              float64\n",
       "Poverty headcount ratio at national poverty line (% of population)                                                 float64\n",
       "Poverty headcount ratio at national poverty line (% of population), including noncomparable values                 float64\n",
       "Poverty headcount ratio at rural poverty line (% of rural population)                                              float64\n",
       "Poverty headcount ratio at rural poverty line (% of rural population), including noncomparable values              float64\n",
       "Poverty headcount ratio at urban poverty line (% of urban population)                                              float64\n",
       "Poverty headcount ratio at urban poverty line (% of urban population), including noncomparable values              float64\n",
       "Rural poverty gap at national poverty line (%)                                                                     float64\n",
       "Rural poverty gap at national poverty line (%), including noncomparable values                                     float64\n",
       "Rural poverty headcount ratio at national poverty lines (% of rural population)                                    float64\n",
       "Rural poverty headcount ratio at national poverty lines (% of rural population), including noncomparable values    float64\n",
       "Urban poverty gap at national poverty lines (%)                                                                    float64\n",
       "Urban poverty gap at national poverty lines (%), including noncomparable values                                    float64\n",
       "GINI index                                                                                                         float64\n",
       "Income share held by fourth 20%                                                                                    float64\n",
       "Income share held by highest 10%                                                                                   float64\n",
       "Income share held by highest 20%                                                                                   float64\n",
       "Income share held by lowest 10%                                                                                    float64\n",
       "Income share held by lowest 20%                                                                                    float64\n",
       "Income share held by second 20%                                                                                    float64\n",
       "Income share held by third 20%                                                                                     float64\n",
       "Population, Total                                                                                                  float64\n",
       "Annualized growth in per capita real survey mean consumption or income, bottom 40% (%)                             float64\n",
       "Annualized growth in per capita real survey mean consumption or income, total population (%)                       float64\n",
       "Survey mean consumption or income per capita, bottom 40% (2011 PPP $ per day)                                      float64\n",
       "Survey mean consumption or income per capita, total population (2011 PPP $ per day)                                float64\n",
       "Annualized growth in per capita real survey mean consumption or income, bottom 40% (%, based on 2005 PPP)          float64\n",
       "Annualized growth in per capita real survey mean consumption or income, total population (%, based on 2005 PPP)    float64\n",
       "Survey mean consumption or income per capita, bottom 40% (2005 PPP $ per day)                                      float64\n",
       "Survey mean consumption or income per capita, total population (2005 PPP $ per day)                                float64\n",
       "Length: 70, dtype: object"
      ]
     },
     "execution_count": 39,
     "metadata": {},
     "output_type": "execute_result"
    }
   ],
   "source": [
    "data['index'] = data['index'].astype('float')\n",
    "data['year'] = data['year'].astype('float')\n",
    "data['EventType1'] = data['EventType1'].astype('float')\n",
    "data.dtypes"
   ]
  },
  {
   "cell_type": "code",
   "execution_count": 35,
   "metadata": {},
   "outputs": [
    {
     "data": {
      "text/plain": [
       "index                                                                                                                int64\n",
       "Country                                                                                                             object\n",
       "year                                                                                                                 int64\n",
       "EventType1                                                                                                           int64\n",
       "EventType2                                                                                                         float64\n",
       "EventType3                                                                                                         float64\n",
       "EventType4                                                                                                         float64\n",
       "EventType5                                                                                                         float64\n",
       "EventType6                                                                                                         float64\n",
       "EventType7                                                                                                         float64\n",
       "EventType8                                                                                                         float64\n",
       "TotalEvents                                                                                                        float64\n",
       "Number of poor at $1.25 a day (PPP) (millions)                                                                     float64\n",
       "Number of poor at $1.90 a day (2011 PPP) (millions)                                                                float64\n",
       "Number of poor at $2 a day (PPP) (millions)                                                                        float64\n",
       "Number of poor at $2.5 a day (PPP) (millions)                                                                      float64\n",
       "Number of poor at $3.10 a day (2011 PPP) (millions)                                                                float64\n",
       "Number of poor at $4 a day (PPP) (millions)                                                                        float64\n",
       "Number of poor at $5 a day (PPP) (millions)                                                                        float64\n",
       "Poverty gap at $1.25 a day (PPP) (%)                                                                               float64\n",
       "Poverty gap at $1.90 a day (2011 PPP) (%)                                                                          float64\n",
       "Poverty gap at $2 a day (PPP) (%)                                                                                  float64\n",
       "Poverty gap at $2.5 a day (PPP) (%)                                                                                float64\n",
       "Poverty gap at $3.10 a day (2011 PPP) (%)                                                                          float64\n",
       "Poverty gap at $4 a day (PPP) (%)                                                                                  float64\n",
       "Poverty gap at $5 a day (PPP) (%)                                                                                  float64\n",
       "Poverty headcount ratio at $1.25 a day (PPP) (% of population)                                                     float64\n",
       "Poverty headcount ratio at $1.90 a day (2011 PPP) (% of population)                                                float64\n",
       "Poverty headcount ratio at $2 a day (PPP) (% of population)                                                        float64\n",
       "Poverty headcount ratio at $2.5 a day (PPP) (% of population)                                                      float64\n",
       "                                                                                                                    ...   \n",
       "Poverty gap at urban poverty line (%), including noncomparable values                                              float64\n",
       "Poverty headcount ratio at national poverty line (% of population)                                                 float64\n",
       "Poverty headcount ratio at national poverty line (% of population), including noncomparable values                 float64\n",
       "Poverty headcount ratio at rural poverty line (% of rural population)                                              float64\n",
       "Poverty headcount ratio at rural poverty line (% of rural population), including noncomparable values              float64\n",
       "Poverty headcount ratio at urban poverty line (% of urban population)                                              float64\n",
       "Poverty headcount ratio at urban poverty line (% of urban population), including noncomparable values              float64\n",
       "Rural poverty gap at national poverty line (%)                                                                     float64\n",
       "Rural poverty gap at national poverty line (%), including noncomparable values                                     float64\n",
       "Rural poverty headcount ratio at national poverty lines (% of rural population)                                    float64\n",
       "Rural poverty headcount ratio at national poverty lines (% of rural population), including noncomparable values    float64\n",
       "Urban poverty gap at national poverty lines (%)                                                                    float64\n",
       "Urban poverty gap at national poverty lines (%), including noncomparable values                                    float64\n",
       "GINI index                                                                                                         float64\n",
       "Income share held by fourth 20%                                                                                    float64\n",
       "Income share held by highest 10%                                                                                   float64\n",
       "Income share held by highest 20%                                                                                   float64\n",
       "Income share held by lowest 10%                                                                                    float64\n",
       "Income share held by lowest 20%                                                                                    float64\n",
       "Income share held by second 20%                                                                                    float64\n",
       "Income share held by third 20%                                                                                     float64\n",
       "Population, Total                                                                                                  float64\n",
       "Annualized growth in per capita real survey mean consumption or income, bottom 40% (%)                             float64\n",
       "Annualized growth in per capita real survey mean consumption or income, total population (%)                       float64\n",
       "Survey mean consumption or income per capita, bottom 40% (2011 PPP $ per day)                                      float64\n",
       "Survey mean consumption or income per capita, total population (2011 PPP $ per day)                                float64\n",
       "Annualized growth in per capita real survey mean consumption or income, bottom 40% (%, based on 2005 PPP)          float64\n",
       "Annualized growth in per capita real survey mean consumption or income, total population (%, based on 2005 PPP)    float64\n",
       "Survey mean consumption or income per capita, bottom 40% (2005 PPP $ per day)                                      float64\n",
       "Survey mean consumption or income per capita, total population (2005 PPP $ per day)                                float64\n",
       "Length: 70, dtype: object"
      ]
     },
     "execution_count": 35,
     "metadata": {},
     "output_type": "execute_result"
    }
   ],
   "source": [
    "data.dtypes"
   ]
  }
 ],
 "metadata": {
  "kernelspec": {
   "display_name": "Python 3",
   "language": "python",
   "name": "python3"
  },
  "language_info": {
   "codemirror_mode": {
    "name": "ipython",
    "version": 3
   },
   "file_extension": ".py",
   "mimetype": "text/x-python",
   "name": "python",
   "nbconvert_exporter": "python",
   "pygments_lexer": "ipython3",
   "version": "3.6.4"
  }
 },
 "nbformat": 4,
 "nbformat_minor": 2
}
